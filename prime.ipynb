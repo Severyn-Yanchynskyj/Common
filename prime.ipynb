{
 "cells": [
  {
   "cell_type": "code",
   "execution_count": 29,
   "metadata": {},
   "outputs": [
    {
     "name": "stdout",
     "output_type": "stream",
     "text": [
      "9000\n",
      "[2, 2, 2, 3, 5, 5, 5]\n"
     ]
    }
   ],
   "source": [
    "import math  \n",
    "l1 = []\n",
    "a = int(input())\n",
    "for i in range(2, math.floor(a/2)):\n",
    "    while not a%i:\n",
    "        l1.append(i)\n",
    "        a = a/i\n",
    "        if i==3:\n",
    "            break\n",
    "for j in range(5, math.floor(a/2), 2):\n",
    "            while not a%j:\n",
    "                l1.append(j)\n",
    "                a = a/j\n",
    "                    \n",
    "if not l1:\n",
    "    l1.append(a)\n",
    "print(l1)"
   ]
  },
  {
   "cell_type": "code",
   "execution_count": 31,
   "metadata": {},
   "outputs": [
    {
     "name": "stdout",
     "output_type": "stream",
     "text": [
      "[1, 2, 3, 5, 7, 9, 11]\n"
     ]
    }
   ],
   "source": [
    "l3 = []\n",
    "for i in range(1,15):\n",
    "    l3.append(i)\n",
    "    if i == 3:\n",
    "        break\n",
    "for j in range(5,12,2):\n",
    "    l3.append(j)\n",
    "print(l3)\n",
    "   \n",
    "\n",
    "    \n",
    "    "
   ]
  },
  {
   "cell_type": "code",
   "execution_count": 110,
   "metadata": {},
   "outputs": [
    {
     "name": "stdout",
     "output_type": "stream",
     "text": [
      "4\n",
      "6\n",
      "8\n",
      "10\n"
     ]
    }
   ],
   "source": [
    "mylist = [1,2,3,4,5,6,7,8,9,10]\n",
    "for i in mylist[3::2]:\n",
    "    print(i)"
   ]
  },
  {
   "cell_type": "code",
   "execution_count": null,
   "metadata": {},
   "outputs": [],
   "source": []
  }
 ],
 "metadata": {
  "kernelspec": {
   "display_name": "Python 3",
   "language": "python",
   "name": "python3"
  },
  "language_info": {
   "codemirror_mode": {
    "name": "ipython",
    "version": 3
   },
   "file_extension": ".py",
   "mimetype": "text/x-python",
   "name": "python",
   "nbconvert_exporter": "python",
   "pygments_lexer": "ipython3",
   "version": "3.7.4"
  }
 },
 "nbformat": 4,
 "nbformat_minor": 2
}
